{
 "cells": [
  {
   "cell_type": "code",
   "execution_count": 1,
   "id": "396de108-6744-4fe5-bfc2-d4120a8eb1c5",
   "metadata": {},
   "outputs": [],
   "source": [
    "import pandas as pd"
   ]
  },
  {
   "cell_type": "code",
   "execution_count": 131,
   "id": "a21365fd-3c57-47ab-9594-54ec48503292",
   "metadata": {},
   "outputs": [],
   "source": [
    "indf = pd.read_excel(\"DBClinicalArchive.xlsx\")\n",
    "indf.dropna(how=\"all\", inplace=True)"
   ]
  },
  {
   "cell_type": "code",
   "execution_count": 139,
   "id": "00fa40c0-1cb7-4bb7-8e40-e460c67e8eb6",
   "metadata": {},
   "outputs": [
    {
     "name": "stdout",
     "output_type": "stream",
     "text": [
      "<class 'pandas.core.frame.DataFrame'>\n",
      "Int64Index: 45265 entries, 0 to 45264\n",
      "Data columns (total 38 columns):\n",
      " #   Column                                        Non-Null Count  Dtype         \n",
      "---  ------                                        --------------  -----         \n",
      " 0   Patient ID                                    29861 non-null  float64       \n",
      " 1   Center Description::Center Description        9897 non-null   object        \n",
      " 2   Center Description::Center e-mail segreteria  9897 non-null   object        \n",
      " 3   Operator                                      25522 non-null  object        \n",
      " 4   Date of the first exam                        29826 non-null  datetime64[ns]\n",
      " 5   Disponibilità per corsi                       21 non-null     object        \n",
      " 6   Time of the first exam                        29848 non-null  object        \n",
      " 7   Animal's name                                 22562 non-null  object        \n",
      " 8   Species                                       29640 non-null  object        \n",
      " 9   Anamnesis                                     25964 non-null  object        \n",
      " 10  Breed                                         29458 non-null  object        \n",
      " 11  Gender                                        29501 non-null  object        \n",
      " 12  Diagnosis                                     29862 non-null  object        \n",
      " 13  Date of birth                                 26447 non-null  object        \n",
      " 14  AgeStr                                        26447 non-null  object        \n",
      " 15  Weight                                        19651 non-null  float64       \n",
      " 16  Owner_last_name                               29714 non-null  object        \n",
      " 17  Owner_name                                    26469 non-null  object        \n",
      " 18  Owner Phone                                   9348 non-null   object        \n",
      " 19  Owner_address                                 23932 non-null  object        \n",
      " 20  Owner Mobile                                  15812 non-null  object        \n",
      " 21  Provincia proprietario                        14726 non-null  object        \n",
      " 22  Owner Fax                                     48 non-null     object        \n",
      " 23  attraverso                                    15488 non-null  object        \n",
      " 24  Internal Medicine Case log::Exam Date         42912 non-null  datetime64[ns]\n",
      " 25  email of the Owner                            10650 non-null  object        \n",
      " 26  Internal Medicine Case log::Exams performed   42919 non-null  object        \n",
      " 27  Referral Colleague                            22641 non-null  object        \n",
      " 28  Referral Colleagues::Institution              12579 non-null  object        \n",
      " 29  Referral Colleagues::Phone                    6940 non-null   object        \n",
      " 30  Referral Colleagues::Address                  8950 non-null   object        \n",
      " 31  Notes                                         1255 non-null   object        \n",
      " 32  Referral Colleagues::Mobile                   12362 non-null  object        \n",
      " 33  Referral Colleagues::Fax                      581 non-null    object        \n",
      " 34  Referral Colleagues::email                    10259 non-null  object        \n",
      " 35  Date of Death                                 286 non-null    datetime64[ns]\n",
      " 36  Cause of Death                                237 non-null    object        \n",
      " 37  Referral Colleagues::Città                    14675 non-null  object        \n",
      "dtypes: datetime64[ns](3), float64(2), object(33)\n",
      "memory usage: 13.5+ MB\n"
     ]
    }
   ],
   "source": [
    "indf.info()"
   ]
  },
  {
   "cell_type": "code",
   "execution_count": 138,
   "id": "39a0ad05-3ddf-4f19-904f-a96ad896efee",
   "metadata": {},
   "outputs": [],
   "source": [
    "if \"Patient ID.1\" in indf:\n",
    "    assert all((indf[\"Patient ID\"] == indf[\"Patient ID.1\"]) | ((indf[\"Patient ID\"].isna()) & indf[\"Patient ID.1\"].isna()))\n",
    "    indf.drop(columns=[\"Patient ID.1\"], inplace=True)"
   ]
  },
  {
   "cell_type": "code",
   "execution_count": 148,
   "id": "0ab3294f-51e6-4758-bed7-0e8d3b25efed",
   "metadata": {},
   "outputs": [],
   "source": [
    "diagnosis = indf[\"Diagnosis\"].apply(lambda s: [f.strip() for f in s.lower().strip().split(\"_x001d_\")] if isinstance(s, str) else [] if s != s else 1/0)"
   ]
  },
  {
   "cell_type": "code",
   "execution_count": 149,
   "id": "a9650920-4f5c-4ab7-8c9d-44417c648c37",
   "metadata": {},
   "outputs": [],
   "source": [
    "import itertools\n",
    "diagnset = pd.Series(itertools.chain.from_iterable(diagnosis)).value_counts()"
   ]
  },
  {
   "cell_type": "code",
   "execution_count": 150,
   "id": "ebb99978-ce54-4f9c-8475-87d5dce246c4",
   "metadata": {
    "collapsed": true,
    "jupyter": {
     "outputs_hidden": true
    },
    "tags": []
   },
   "outputs": [
    {
     "data": {
      "text/plain": [
       "amiloidosi renale ?                1\n",
       "ascesso renale ?                   1\n",
       "colangiocarcinoma??                1\n",
       "cor triatriatum sinister?          1\n",
       "coronaria ds anomala ?             4\n",
       "corpo estraneo?                    1\n",
       "cushing ?                          2\n",
       "dia????                            1\n",
       "diabete mellito?                   1\n",
       "displasia glomerulare renale ?     1\n",
       "displasia renale ?                 1\n",
       "ectopia ureterale ?                1\n",
       "epatite ?                          1\n",
       "epatite cronica ?                  1\n",
       "epilessia ??                       1\n",
       "fibroelastosi endomiocardica???    1\n",
       "fip  ????                          1\n",
       "fip ?                              2\n",
       "idrometra ?                        1\n",
       "ipertiroidismo ?                   3\n",
       "ipotiroidismo ?                    1\n",
       "linfoma ?                          1\n",
       "linfoma ??                         1\n",
       "linfoma intestinale ?              3\n",
       "linfoma?                           1\n",
       "lipidosi epatica ?                 2\n",
       "massa ???                          6\n",
       "massa ??? renale                   1\n",
       "mesotelioma ???                    1\n",
       "nefrite ?                          1\n",
       "neoplasia antro pilorico?          1\n",
       "neoplasia epatica ?                2\n",
       "neoplasia intestinale ?            1\n",
       "neoplasia pancreatica ?            2\n",
       "neoplasia renale ?                 2\n",
       "neoplasia renale?                  1\n",
       "neoplasia splenica?                1\n",
       "neoplasia tiroidea ?               2\n",
       "neoplasia?                         2\n",
       "pancreatite ?                      5\n",
       "pancreatite acuta ?                2\n",
       "pericardite ?                      1\n",
       "pielonefrite  ???                  1\n",
       "pielonefrite ?                     1\n",
       "pif?                               1\n",
       "piometra ?                         1\n",
       "pu/pd ?                            1\n",
       "ssi ?                              1\n",
       "tromboembolia polmonare ?          1\n",
       "ucm ?                              1\n",
       "dtype: int64"
      ]
     },
     "execution_count": 150,
     "metadata": {},
     "output_type": "execute_result"
    }
   ],
   "source": [
    "diagnset[diagnset.index.str.contains(\"\\?\")][0:50].sort_index()"
   ]
  }
 ],
 "metadata": {
  "kernelspec": {
   "display_name": "Python 3",
   "language": "python",
   "name": "python3"
  },
  "language_info": {
   "codemirror_mode": {
    "name": "ipython",
    "version": 3
   },
   "file_extension": ".py",
   "mimetype": "text/x-python",
   "name": "python",
   "nbconvert_exporter": "python",
   "pygments_lexer": "ipython3",
   "version": "3.9.7"
  }
 },
 "nbformat": 4,
 "nbformat_minor": 5
}
